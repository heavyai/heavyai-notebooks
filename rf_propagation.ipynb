{
 "cells": [
  {
   "cell_type": "markdown",
   "id": "042abcdb-e887-40de-8451-b9d8170e5e1e",
   "metadata": {
    "pycharm": {
     "name": "#%% md\n"
    }
   },
   "source": [
    "# Radio Frequency Propagation using UDTF\n",
    "\n",
    "The following example is a walk through to show how to use a complex User Defined Table Function (UDTF) on a large scale application.\n",
    "\n",
    "*HeavyRF* is a SQL extension which can predict radio frequency (RF) signal strength (in dBm).\n",
    "\n",
    "Predictions are based on \"line of sight\" using ray casting in which rays are considered blocked upon first contact with vegetation, buildings or terrain. Signal attenuation is modeled using [free-space path loss](https://en.wikipedia.org/wiki/Free-space_path_loss). This model is appropriate for \"millimeter waves\" such as 5G signals and similar high frequency signals. Future enhancements will extend the capabilities to a wider range of frequencies by taking into account vegetation attenuation and signal bouncing behavior.\n",
    "\n",
    "*HeavyRF* provides the function `tf_rf_prop_max_signal`. Given a set of antenna/tower location and topography data (cloud point representing the buildings, vegeration, terrain), it builds the propagation model and makes the prediction.\n",
    "\n",
    "```sql\n",
    "tf_rf_prop_max_signal(\n",
    "    rf_source => CURSOR(rf_source_id, rf_source_x, rf_source_y, rf_source_z),  /* cell tower data */\n",
    "    rf_source_z_is_relative_to_terrain => TRUE,  /* AMSL elevation, otherwize with respect to ground */\n",
    "    rf_source_signal_strength_dbm => 20.0,  /* source signal strength */\n",
    "    rf_source_signal_frequency_mhz => 3900,  /* frequency of tower signal in MHz */\n",
    "    terrain => CURSOR(terrain_x, terrain_y, terrain_z),  /* topography data */\n",
    "    bin_dim_meters => 90,  /* output table size */\n",
    "    max_ray_travel_meters => 2000,  /* max distance for signal strength computation */\n",
    "    num_rays_per_sources => 720,  /* number of rays per source */\n",
    "    min_receiver_signal_strength_dbm => -100.0  /* min receiver signal in dBm */\n",
    ")\n",
    "```\n",
    "\n",
    "The output of the function is a table with predictions of signal power `rf_source_signal_strength_dbm` and the id of the nearest cell tower `rf_source_id`.\n",
    "\n",
    "<div class=\"alert alert-block alert-info\">\n",
    "<b>Note:</b> When <code>geographic_coords => true</code>, the Coordinate Reference System (CRS) of the points' coordinates needs to be WGS84 (latitude, longitude). Otherwize, coordinates are assumed to be in meters (valid for a given UTM region). The elevation data is either referenced to the ground or the mean sea level (AMSL).\n",
    "</div>\n",
    "\n",
    "<div class=\"alert alert-block alert-info\">\n",
    "<b>Note:</b> Using named parameters in HeavyDB is supported with HeavyDB>=6. You can use previous versions by removing the annotation. E.g. <code>geographic_coords => true</code> would just be <code>true</code>.\n",
    "</div>"
   ]
  },
  {
   "cell_type": "markdown",
   "id": "e398dfcb-1f23-43dd-b20c-f986856526f9",
   "metadata": {
    "pycharm": {
     "name": "#%% md\n"
    }
   },
   "source": [
    "## Setup\n",
    "\n",
    "On top of *HeavyDB*, the following packages are used.\n",
    "\n",
    "* [heavyai](https://heavyai.readthedocs.io/en/latest/): interact with HeavyDB\n",
    "* [pandas](https://pandas.pydata.org): tabular data structure\n",
    "* [s3fs](https://s3fs.readthedocs.io/): load s3 data\n",
    "* [geopandas](https://geopandas.org/en/stable): geo-spatial plotting, helper functions on top of pandas\n",
    "* [contextily](https://github.com/geopandas/contextily): background maps\n",
    "* [matplotlib](https://matplotlib.org): plotting library\n",
    "* [ipympl](https://github.com/matplotlib/ipympl): interactive matplotlib\n",
    "\n",
    "They are all available on PyPi or conda-forge (recommended) depending on your prefered method of installation."
   ]
  },
  {
   "cell_type": "code",
   "execution_count": 56,
   "id": "43a66e05-48c7-4465-9930-0b23e6ae8e2a",
   "metadata": {
    "pycharm": {
     "name": "#%%\n"
    }
   },
   "outputs": [],
   "source": [
    "import heavyai\n",
    "import pyarrow as pa\n",
    "import geopandas as gpd\n",
    "import contextily as cx\n",
    "import pandas as pd\n",
    "import matplotlib.pyplot as plt"
   ]
  },
  {
   "cell_type": "code",
   "execution_count": 57,
   "id": "4371a20b-1d56-4444-90e0-5482d57bffa9",
   "metadata": {
    "pycharm": {
     "name": "#%%\n"
    }
   },
   "outputs": [
    {
     "data": {
      "text/plain": [
       "('1.0', '0.9.0', '1.2.0')"
      ]
     },
     "execution_count": 57,
     "metadata": {},
     "output_type": "execute_result"
    }
   ],
   "source": [
    "import importlib_metadata\n",
    "importlib_metadata.version('heavyai'), importlib_metadata.version('geopandas'), importlib_metadata.version('contextily')"
   ]
  },
  {
   "cell_type": "code",
   "execution_count": 58,
   "id": "d07f031c-1a6a-4f03-8460-962d04b3efc6",
   "metadata": {
    "pycharm": {
     "name": "#%%\n"
    }
   },
   "outputs": [],
   "source": [
    "%matplotlib widget"
   ]
  },
  {
   "cell_type": "markdown",
   "id": "f39b210e-7a73-4955-a6b0-d65b43ab3282",
   "metadata": {
    "pycharm": {
     "name": "#%% md\n"
    }
   },
   "source": [
    "## Data preparation\n",
    "\n",
    "To train our model, we have access to 2 dataset:\n",
    "\n",
    "* A list of cell towers with some associated metadata\n",
    "* A lidar survey of the region"
   ]
  },
  {
   "cell_type": "markdown",
   "id": "34c86874-2d9c-4b17-b33c-6e9329f1734c",
   "metadata": {
    "pycharm": {
     "name": "#%% md\n"
    }
   },
   "source": [
    "First, connect to HeavyDB. This connection will be used to load, read data and execute commands on the database."
   ]
  },
  {
   "cell_type": "code",
   "execution_count": 59,
   "id": "8dd6445e-6670-4fc3-ac52-5ac8cf680281",
   "metadata": {
    "pycharm": {
     "name": "#%%\n"
    }
   },
   "outputs": [],
   "source": [
    "def create_connection():\n",
    "    con = heavyai.connect(user=\"admin\", password=\"HyperInteractive\", host=\"localhost\", dbname=\"heavyai\")\n",
    "    return con\n",
    "\n",
    "con = create_connection()"
   ]
  },
  {
   "cell_type": "markdown",
   "id": "12de5345-0de9-4f55-9656-8d7c69b9eb27",
   "metadata": {
    "pycharm": {
     "name": "#%% md\n"
    }
   },
   "source": [
    "### Importing data to HeavyDB\n",
    "\n",
    "If the data is not yet present in the database, there are convenient functions to load pandas dataframe into HeavyDB.\n",
    "\n",
    "Assuming our data is in CSV files, it can be loaded with pandas into dataframe:"
   ]
  },
  {
   "cell_type": "code",
   "execution_count": null,
   "id": "e04528c7",
   "metadata": {
    "collapsed": false,
    "jupyter": {
     "outputs_hidden": false
    },
    "pycharm": {
     "name": "#%%\n"
    }
   },
   "outputs": [],
   "source": [
    "lidar = pd.read_parquet(\"s3://mapd-data/telco/Lidar_Input.parquet\", storage_options={\"anon\": True})\n",
    "lidar.columns = [\"x\", \"y\", \"z\"]\n",
    "cell_towers = pd.read_parquet(\"s3://mapd-data/telco/Cell_Towers_Input.parquet\", storage_options={\"anon\": True})"
   ]
  },
  {
   "cell_type": "code",
   "execution_count": null,
   "id": "2b4e64a7",
   "metadata": {
    "collapsed": false,
    "jupyter": {
     "outputs_hidden": false
    },
    "pycharm": {
     "name": "#%%\n"
    }
   },
   "outputs": [],
   "source": [
    "lidar.head(1)"
   ]
  },
  {
   "cell_type": "code",
   "execution_count": null,
   "id": "b3cded4d",
   "metadata": {
    "collapsed": false,
    "jupyter": {
     "outputs_hidden": false
    },
    "pycharm": {
     "name": "#%%\n"
    }
   },
   "outputs": [],
   "source": [
    "cell_towers.head(1)"
   ]
  },
  {
   "cell_type": "markdown",
   "id": "4df2ca0c",
   "metadata": {
    "pycharm": {
     "name": "#%% md\n"
    }
   },
   "source": [
    "Create the two corresponding tables `lidar` and `cell_towers` on HeavyDB:"
   ]
  },
  {
   "cell_type": "code",
   "execution_count": null,
   "id": "ba12301c",
   "metadata": {
    "collapsed": false,
    "jupyter": {
     "outputs_hidden": false
    },
    "pycharm": {
     "name": "#%%\n"
    }
   },
   "outputs": [],
   "source": [
    "con.load_table(\"lidar\", lidar)"
   ]
  },
  {
   "cell_type": "code",
   "execution_count": null,
   "id": "3036f60a",
   "metadata": {
    "collapsed": false,
    "jupyter": {
     "outputs_hidden": false
    },
    "pycharm": {
     "name": "#%%\n"
    }
   },
   "outputs": [],
   "source": [
    "con.load_table(\"cell_towers\", cell_towers)"
   ]
  },
  {
   "cell_type": "markdown",
   "id": "00321dc4",
   "metadata": {
    "pycharm": {
     "name": "#%% md\n"
    }
   },
   "source": [
    "### Reading data from HeavyDB\n",
    "\n",
    "Once the data is present on the database, it can be access or worked on using all the capabilities of HeavyDB."
   ]
  },
  {
   "cell_type": "code",
   "execution_count": null,
   "id": "94edc6b9",
   "metadata": {
    "collapsed": false,
    "jupyter": {
     "outputs_hidden": false
    },
    "pycharm": {
     "name": "#%%\n"
    }
   },
   "outputs": [],
   "source": [
    "con.get_tables()"
   ]
  },
  {
   "cell_type": "code",
   "execution_count": null,
   "id": "066e6591",
   "metadata": {
    "collapsed": false,
    "jupyter": {
     "outputs_hidden": false
    },
    "pycharm": {
     "name": "#%%\n"
    }
   },
   "outputs": [],
   "source": [
    "con.get_table_details('lidar')"
   ]
  },
  {
   "cell_type": "code",
   "execution_count": null,
   "id": "a5ad079e",
   "metadata": {
    "collapsed": false,
    "jupyter": {
     "outputs_hidden": false
    },
    "pycharm": {
     "name": "#%%\n"
    }
   },
   "outputs": [],
   "source": [
    "lidar = pd.read_sql(\"SELECT * FROM lidar\", con)"
   ]
  },
  {
   "cell_type": "code",
   "execution_count": null,
   "id": "73d63e29",
   "metadata": {
    "collapsed": false,
    "jupyter": {
     "outputs_hidden": false
    },
    "pycharm": {
     "name": "#%%\n"
    }
   },
   "outputs": [],
   "source": [
    "lidar.head(1)"
   ]
  },
  {
   "cell_type": "markdown",
   "id": "2b8de1c3",
   "metadata": {
    "pycharm": {
     "name": "#%% md\n"
    }
   },
   "source": [
    "The data is conveniently read using a pandas dataframe which allows powerfull analysis."
   ]
  },
  {
   "cell_type": "markdown",
   "id": "3e7a8979",
   "metadata": {
    "pycharm": {
     "name": "#%% md\n"
    }
   },
   "source": [
    "But `heavyai` provides a more powerful method `select_ipc` which uses Arrow as a transport layer. On top of which, `sample_ratio` can also be used to only sample a fraction of the table. This is useful to prevent pulling by accident very large tables."
   ]
  },
  {
   "cell_type": "code",
   "execution_count": null,
   "id": "a6e78c84",
   "metadata": {
    "collapsed": false,
    "jupyter": {
     "outputs_hidden": false
    },
    "pycharm": {
     "name": "#%%\n"
    }
   },
   "outputs": [],
   "source": [
    "lidar = con.select_ipc(\n",
    "    f\"SELECT * FROM lidar\"\n",
    "    f\" where sample_ratio((select 100000 / cast(count(*) as float) from lidar))\"\n",
    ")"
   ]
  },
  {
   "cell_type": "code",
   "execution_count": null,
   "id": "b2474cbf",
   "metadata": {
    "collapsed": false,
    "jupyter": {
     "outputs_hidden": false
    },
    "pycharm": {
     "name": "#%%\n"
    }
   },
   "outputs": [],
   "source": [
    "lidar.head(1)"
   ]
  },
  {
   "cell_type": "markdown",
   "id": "6f498a92",
   "metadata": {
    "pycharm": {
     "name": "#%% md\n"
    }
   },
   "source": [
    "## Exploring the data"
   ]
  },
  {
   "cell_type": "markdown",
   "id": "2974d692",
   "metadata": {
    "pycharm": {
     "name": "#%% md\n"
    }
   },
   "source": [
    "`tf_rf_prop_max_signal` is working with longitude/latitude data which corresponds to CRS 4326. We use `geopandas` to register the CRS. `geopandas` provides powerful geospatial tools such as easy CRS conversion."
   ]
  },
  {
   "cell_type": "code",
   "execution_count": null,
   "id": "add2afef",
   "metadata": {
    "collapsed": false,
    "jupyter": {
     "outputs_hidden": false
    },
    "pycharm": {
     "name": "#%%\n"
    }
   },
   "outputs": [],
   "source": [
    "crs = \"EPSG:4326\""
   ]
  },
  {
   "cell_type": "code",
   "execution_count": null,
   "id": "a0c6be5e",
   "metadata": {
    "collapsed": false,
    "jupyter": {
     "outputs_hidden": false
    },
    "pycharm": {
     "name": "#%%\n"
    }
   },
   "outputs": [],
   "source": [
    "lidar = gpd.GeoDataFrame(lidar, geometry=gpd.points_from_xy(lidar.x, lidar.y), crs=crs)\n",
    "cell_towers = gpd.GeoDataFrame(cell_towers, geometry=gpd.points_from_xy(cell_towers.lon, cell_towers.lat), crs=crs)"
   ]
  },
  {
   "cell_type": "markdown",
   "id": "e605dff4",
   "metadata": {
    "pycharm": {
     "name": "#%% md\n"
    }
   },
   "source": [
    "Let's visualize the data. In general it's prefered to use a mercator projection when considering small areas. Mercator projection is defined by CRS 3857."
   ]
  },
  {
   "cell_type": "code",
   "execution_count": null,
   "id": "16ad9c47",
   "metadata": {
    "collapsed": false,
    "jupyter": {
     "outputs_hidden": false
    },
    "pycharm": {
     "name": "#%%\n"
    }
   },
   "outputs": [],
   "source": [
    "# convert from CRS 4326 to 3857\n",
    "lidar_mercator = lidar.to_crs(epsg=3857)\n",
    "cell_towers_mercator = cell_towers.to_crs(epsg=3857)"
   ]
  },
  {
   "cell_type": "code",
   "execution_count": null,
   "id": "a764f0c2",
   "metadata": {
    "collapsed": false,
    "jupyter": {
     "outputs_hidden": false
    },
    "pycharm": {
     "name": "#%%\n"
    }
   },
   "outputs": [],
   "source": [
    "fig, ax = plt.subplots(figsize=(10, 5))\n",
    "\n",
    "ax.set_aspect('equal')\n",
    "ax.set_axis_off()\n",
    "\n",
    "ax.tricontourf(\n",
    "    [p.x for p in lidar_mercator.geometry],\n",
    "    [p.y for p in lidar_mercator.geometry],\n",
    "    lidar_mercator.z,\n",
    "    alpha=0.3,\n",
    "    cmap='gist_earth'\n",
    ")\n",
    "cell_towers_mercator.plot(ax=ax, alpha=0.8, markersize=2)\n",
    "\n",
    "cx.add_basemap(ax, source=cx.providers.Stamen.TonerLite, zoom=15)"
   ]
  },
  {
   "cell_type": "markdown",
   "id": "c7adb0da",
   "metadata": {
    "pycharm": {
     "name": "#%% md\n"
    }
   },
   "source": [
    "## Predicting RF propagation\n",
    "\n",
    "Using the two tables `lidar` and `cell_towers`, we can use the User Defined Table Function (UDTF) `tf_rf_prop_max_signal` to train a model and predict signal power.\n",
    "\n",
    "We are interested in the impact of doubling the number of antennas in the considered area. Since we have a finite list of antennas, we will emulate this by sampling half of the antennas at first. Then we will consider the complete dataset."
   ]
  },
  {
   "cell_type": "code",
   "execution_count": null,
   "id": "9016bcdf",
   "metadata": {
    "collapsed": false,
    "jupyter": {
     "outputs_hidden": false
    },
    "pycharm": {
     "name": "#%%\n"
    }
   },
   "outputs": [],
   "source": [
    "sql_query = \"\"\"\n",
    "SELECT * FROM TABLE(\n",
    "  tf_rf_prop_max_signal(\n",
    "    rf_source => CURSOR(\n",
    "      SELECT repeater_id, lon, lat, elevation0 AS relative_elevation FROM cell_towers\n",
    "    ),\n",
    "    rf_source_z_is_relative_to_terrain => TRUE,\n",
    "    rf_source_signal_strength_dbm => 20.0,\n",
    "    rf_source_signal_frequency_mhz => 3900,\n",
    "    terrain => CURSOR(\n",
    "      (SELECT x , y, z FROM lidar)\n",
    "    ),\n",
    "    bin_dim_meters => 90,\n",
    "    max_ray_travel_meters => 2000,\n",
    "    num_rays_per_sources => 720,\n",
    "    min_receiver_signal_strength_dbm => -100.0\n",
    "  )\n",
    ")\n",
    "\"\"\""
   ]
  },
  {
   "cell_type": "code",
   "execution_count": null,
   "id": "b2689b33",
   "metadata": {
    "collapsed": false,
    "jupyter": {
     "outputs_hidden": false
    },
    "pycharm": {
     "name": "#%%\n"
    }
   },
   "outputs": [],
   "source": [
    "# NBVAL_SKIP\n",
    "rf_prop = con.select_ipc(sql_query)"
   ]
  },
  {
   "cell_type": "markdown",
   "id": "1547765b",
   "metadata": {
    "pycharm": {
     "name": "#%% md\n"
    }
   },
   "source": [
    "**TODO** \n",
    "\n",
    "Verify the above command: needs a specific flag to be available at compile time\n",
    "For now, just load the results from a file"
   ]
  },
  {
   "cell_type": "code",
   "execution_count": null,
   "id": "3ca49245",
   "metadata": {
    "collapsed": false,
    "jupyter": {
     "outputs_hidden": false
    },
    "pycharm": {
     "name": "#%%\n"
    }
   },
   "outputs": [],
   "source": [
    "rf_prop = pd.read_parquet(\"s3://mapd-data/telco/RF_Prop_Output.parquet\", storage_options={\"anon\": True})"
   ]
  },
  {
   "cell_type": "code",
   "execution_count": null,
   "id": "e5cbe076",
   "metadata": {
    "collapsed": false,
    "jupyter": {
     "outputs_hidden": false
    },
    "pycharm": {
     "name": "#%%\n"
    }
   },
   "outputs": [],
   "source": [
    "rf_prop = gpd.GeoDataFrame(rf_prop, geometry=gpd.points_from_xy(rf_prop.x, rf_prop.y), crs=crs)"
   ]
  },
  {
   "cell_type": "code",
   "execution_count": null,
   "id": "afe2fcd5",
   "metadata": {
    "collapsed": false,
    "jupyter": {
     "outputs_hidden": false
    },
    "pycharm": {
     "name": "#%%\n"
    }
   },
   "outputs": [],
   "source": [
    "rf_prop.head(1)"
   ]
  },
  {
   "cell_type": "markdown",
   "id": "60946e63",
   "metadata": {
    "pycharm": {
     "name": "#%% md\n"
    }
   },
   "source": [
    "## Visualizing the predicted signal power"
   ]
  },
  {
   "cell_type": "code",
   "execution_count": null,
   "id": "4851ee79",
   "metadata": {
    "collapsed": false,
    "jupyter": {
     "outputs_hidden": false
    },
    "pycharm": {
     "name": "#%%\n"
    }
   },
   "outputs": [],
   "source": [
    "rf_prop_mercator = rf_prop.to_crs(epsg=3857)"
   ]
  },
  {
   "cell_type": "code",
   "execution_count": null,
   "id": "7510c760",
   "metadata": {
    "collapsed": false,
    "jupyter": {
     "outputs_hidden": false
    },
    "pycharm": {
     "name": "#%%\n"
    }
   },
   "outputs": [],
   "source": [
    "fig, ax = plt.subplots(figsize=(10, 5))\n",
    "\n",
    "\n",
    "ax.set_aspect('equal')\n",
    "ax.set_axis_off()\n",
    "\n",
    "ax.tricontourf(\n",
    "    [p.x for p in rf_prop_mercator.geometry],\n",
    "    [p.y for p in rf_prop_mercator.geometry],\n",
    "    rf_prop_mercator.max_rf_signal_strength_dbm,\n",
    "    alpha=0.3,\n",
    "    cmap='magma'\n",
    ")\n",
    "cell_towers_mercator.plot(ax=ax, alpha=0.8, markersize=2)\n",
    "cx.add_basemap(ax, source=cx.providers.Stamen.TonerLite, zoom=15)"
   ]
  },
  {
   "cell_type": "markdown",
   "id": "afdc125a",
   "metadata": {
    "pycharm": {
     "name": "#%% md\n"
    }
   },
   "source": [
    "## Impact on the number of towers\n",
    "\n",
    "Now let's randomly divide the number of towers by 10 and observe the impact on the RF propagation."
   ]
  },
  {
   "cell_type": "code",
   "execution_count": null,
   "id": "69942166",
   "metadata": {
    "collapsed": false,
    "jupyter": {
     "outputs_hidden": false
    },
    "pycharm": {
     "name": "#%%\n"
    }
   },
   "outputs": [],
   "source": [
    "sql_query = \"\"\"\n",
    "SELECT * FROM TABLE(\n",
    "  tf_rf_prop_max_signal(\n",
    "    rf_source => CURSOR(\n",
    "      SELECT repeater_id, lon, lat, elevation0 AS relative_elevation FROM cell_towers\n",
    "      WHERE sample_ratio(0.5)\n",
    "    ),\n",
    "    rf_source_z_is_relative_to_terrain => TRUE,\n",
    "    rf_source_signal_strength_dbm => 20.0,\n",
    "    rf_source_signal_frequency_mhz => 3900,\n",
    "    terrain => CURSOR(\n",
    "      (SELECT x, y, z FROM lidar)\n",
    "    ),\n",
    "    bin_dim_meters => 90,\n",
    "    max_ray_travel_meters => 2000,\n",
    "    num_rays_per_sources => 720,\n",
    "    min_receiver_signal_strength_dbm => -100.0\n",
    "  )\n",
    ")\n",
    "\"\"\""
   ]
  },
  {
   "cell_type": "code",
   "execution_count": null,
   "id": "1e9f9d49",
   "metadata": {
    "collapsed": false,
    "jupyter": {
     "outputs_hidden": false
    },
    "pycharm": {
     "name": "#%%\n"
    }
   },
   "outputs": [],
   "source": [
    "# NBVAL_SKIP\n",
    "rf_prop_half = con.select_ipc(sql_query)"
   ]
  },
  {
   "cell_type": "code",
   "execution_count": null,
   "id": "eb1b7544",
   "metadata": {
    "collapsed": false,
    "jupyter": {
     "outputs_hidden": false
    },
    "pycharm": {
     "name": "#%%\n"
    }
   },
   "outputs": [],
   "source": []
  },
  {
   "cell_type": "markdown",
   "id": "dd9f77f5",
   "metadata": {
    "pycharm": {
     "name": "#%% md\n"
    }
   },
   "source": [
    "**TODO**\n",
    "Verify the above command: needs a specific flag to be available at compile time\n",
    "For now, just load the results from a file"
   ]
  },
  {
   "cell_type": "code",
   "execution_count": null,
   "id": "a2f85147",
   "metadata": {
    "collapsed": false,
    "jupyter": {
     "outputs_hidden": false
    },
    "pycharm": {
     "name": "#%%\n"
    }
   },
   "outputs": [],
   "source": [
    "rf_prop_half = pd.read_parquet(\"s3://mapd-data/telco/RF_Prop_Output.parquet\", storage_options={\"anon\": True}).sample(frac=0.1)"
   ]
  },
  {
   "cell_type": "code",
   "execution_count": 76,
   "id": "d6928863",
   "metadata": {
    "collapsed": false,
    "jupyter": {
     "outputs_hidden": false
    },
    "pycharm": {
     "name": "#%%\n"
    }
   },
   "outputs": [],
   "source": [
    "rf_prop_half = gpd.GeoDataFrame(rf_prop_half, geometry=gpd.points_from_xy(rf_prop_half.x, rf_prop_half.y), crs=crs)\n",
    "rf_prop_mercator_half = rf_prop_half.to_crs(epsg=3857)"
   ]
  },
  {
   "cell_type": "code",
   "execution_count": null,
   "id": "b1ef7e2c",
   "metadata": {
    "collapsed": false,
    "jupyter": {
     "outputs_hidden": false
    },
    "pycharm": {
     "name": "#%%\n"
    }
   },
   "outputs": [],
   "source": [
    "fig, ax = plt.subplots(figsize=(10, 5))\n",
    "\n",
    "\n",
    "ax.set_aspect('equal')\n",
    "ax.set_axis_off()\n",
    "\n",
    "ax.tricontourf(\n",
    "    [p.x for p in rf_prop_mercator_half.geometry],\n",
    "    [p.y for p in rf_prop_mercator_half.geometry],\n",
    "    rf_prop_mercator_half.max_rf_signal_strength_dbm,\n",
    "    alpha=0.3,\n",
    "    cmap='magma'\n",
    ")\n",
    "cell_towers_mercator.plot(ax=ax, alpha=0.8, markersize=2)\n",
    "cx.add_basemap(ax, source=cx.providers.Stamen.TonerLite, zoom=15)"
   ]
  },
  {
   "cell_type": "code",
   "execution_count": null,
   "id": "6f8ede4d",
   "metadata": {
    "collapsed": false,
    "jupyter": {
     "outputs_hidden": false
    },
    "pycharm": {
     "name": "#%%\n"
    }
   },
   "outputs": [],
   "source": []
  }
 ],
 "metadata": {
  "kernelspec": {
   "display_name": "Python 3 (ipykernel)",
   "language": "python",
   "name": "python3"
  },
  "language_info": {
   "codemirror_mode": {
    "name": "ipython",
    "version": 3
   },
   "file_extension": ".py",
   "mimetype": "text/x-python",
   "name": "python",
   "nbconvert_exporter": "python",
   "pygments_lexer": "ipython3",
   "version": "3.9.13"
  }
 },
 "nbformat": 4,
 "nbformat_minor": 5
}