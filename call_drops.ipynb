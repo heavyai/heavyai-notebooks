{
 "cells": [
  {
   "cell_type": "markdown",
   "metadata": {
    "pycharm": {
     "name": "#%% md\n"
    }
   },
   "source": [
    "# Call Dropping Prediction\n",
    "\n",
    "Call Drops are of great interest to the telecommunication industry (TELCO). The identification of users falling within this spectrum would help in future planning of cell towers. Based on the radio frequency (RF) signal strength---generated via a physical model---, ML-based methods can be used to identify which factors can be used to capture the signal strength distribution across a region. Further analysis on the variable importance can be made in order to assess key variables and help with infrastructure planning.\n",
    "\n",
    "Provided data over Los Angeles region, we are interested in predicting the signal reception quality-which is defined as `max_rf_signal_strength_dbm` in the dataset. It's value is used to classify data points into three categories:\n",
    "\n",
    "0. Good signal, \n",
    "1. Drop,\n",
    "2. No signal."
   ]
  },
  {
   "cell_type": "markdown",
   "metadata": {
    "pycharm": {
     "name": "#%% md\n"
    }
   },
   "source": [
    "## Setup\n",
    "\n",
    "On top of *HeavyDB*, the following packages are used.\n",
    "\n",
    "* [heavyai](https://heavyai.readthedocs.io/en/latest/): interact with HeavyDB\n",
    "* [pandas](https://pandas.pydata.org): tabular data structure\n",
    "* [scikit-learn](https://scikit-learn.org/stable/): machine learning\n",
    "\n",
    "They are all available on PyPi or conda-forge (recommended) depending on your prefered method of installation."
   ]
  },
  {
   "cell_type": "code",
   "execution_count": 1,
   "metadata": {
    "pycharm": {
     "name": "#%%\n"
    }
   },
   "outputs": [],
   "source": [
    "import heavyai\n",
    "import pandas as pd\n",
    "from sklearn.ensemble import RandomForestClassifier\n",
    "from sklearn.model_selection import train_test_split\n",
    "from sklearn import preprocessing\n",
    "from sklearn import pipeline\n",
    "from sklearn import set_config\n",
    "\n",
    "set_config(display=\"diagram\")"
   ]
  },
  {
   "cell_type": "code",
   "execution_count": 2,
   "outputs": [
    {
     "data": {
      "text/plain": "('1.0', '0.9.0', '1.2.0')"
     },
     "execution_count": 2,
     "metadata": {},
     "output_type": "execute_result"
    }
   ],
   "source": [
    "# NBVAL_IGNORE_OUTPUT\n",
    "import importlib_metadata\n",
    "importlib_metadata.version('heavyai'), importlib_metadata.version('geopandas'), importlib_metadata.version('contextily')"
   ],
   "metadata": {
    "collapsed": false,
    "pycharm": {
     "name": "#%%\n"
    }
   }
  },
  {
   "cell_type": "markdown",
   "source": [
    "## Data preparation\n",
    "\n",
    "To train our model/classifier, we have access to measurements over LA."
   ],
   "metadata": {
    "collapsed": false,
    "pycharm": {
     "name": "#%% md\n"
    }
   }
  },
  {
   "cell_type": "markdown",
   "source": [
    "First, connect to HeavyDB. This connection will be used to load, read data and execute commands on the database."
   ],
   "metadata": {
    "collapsed": false,
    "pycharm": {
     "name": "#%% md\n"
    }
   }
  },
  {
   "cell_type": "code",
   "execution_count": 3,
   "outputs": [],
   "source": [
    "def create_connection():\n",
    "    con = heavyai.connect(user=\"admin\", password=\"HyperInteractive\", host=\"localhost\", dbname=\"heavyai\")\n",
    "    return con\n",
    "\n",
    "con = create_connection()"
   ],
   "metadata": {
    "collapsed": false,
    "pycharm": {
     "name": "#%%\n"
    }
   }
  },
  {
   "cell_type": "markdown",
   "source": [
    "### Importing data to HeavyDB\n",
    "\n",
    "If the data is not yet present in the database, there are convenient functions to load pandas dataframe into HeavyDB.\n",
    "\n",
    "Assuming our data is in CSV files, it can be loaded with pandas into dataframe:"
   ],
   "metadata": {
    "collapsed": false,
    "pycharm": {
     "name": "#%% md\n"
    }
   }
  },
  {
   "cell_type": "code",
   "execution_count": 4,
   "outputs": [
    {
     "data": {
      "text/plain": "(3061768, 9)"
     },
     "execution_count": 4,
     "metadata": {},
     "output_type": "execute_result"
    }
   ],
   "source": [
    "rf_prop = pd.read_csv(\"data/la_rf_prop_v19\").drop('Unnamed: 0', axis=1)\n",
    "rf_prop.shape"
   ],
   "metadata": {
    "collapsed": false,
    "pycharm": {
     "name": "#%%\n"
    }
   }
  },
  {
   "cell_type": "code",
   "execution_count": 5,
   "outputs": [
    {
     "data": {
      "text/plain": "                                          geo  elevation_amsl_meters  \\\n0  POINT (-118.096999972173 33.6369999747896)                    NaN   \n\n   rf_source_id  max_rf_signal_strength_dbm  row_id  source_distance  \\\n0           NaN                         NaN  536680              0.0   \n\n   nearest_cell  nearest_source_distance  label  \n0       38633.0              4731.014691      2  ",
      "text/html": "<div>\n<style scoped>\n    .dataframe tbody tr th:only-of-type {\n        vertical-align: middle;\n    }\n\n    .dataframe tbody tr th {\n        vertical-align: top;\n    }\n\n    .dataframe thead th {\n        text-align: right;\n    }\n</style>\n<table border=\"1\" class=\"dataframe\">\n  <thead>\n    <tr style=\"text-align: right;\">\n      <th></th>\n      <th>geo</th>\n      <th>elevation_amsl_meters</th>\n      <th>rf_source_id</th>\n      <th>max_rf_signal_strength_dbm</th>\n      <th>row_id</th>\n      <th>source_distance</th>\n      <th>nearest_cell</th>\n      <th>nearest_source_distance</th>\n      <th>label</th>\n    </tr>\n  </thead>\n  <tbody>\n    <tr>\n      <th>0</th>\n      <td>POINT (-118.096999972173 33.6369999747896)</td>\n      <td>NaN</td>\n      <td>NaN</td>\n      <td>NaN</td>\n      <td>536680</td>\n      <td>0.0</td>\n      <td>38633.0</td>\n      <td>4731.014691</td>\n      <td>2</td>\n    </tr>\n  </tbody>\n</table>\n</div>"
     },
     "execution_count": 5,
     "metadata": {},
     "output_type": "execute_result"
    }
   ],
   "source": [
    "rf_prop.head(1)"
   ],
   "metadata": {
    "collapsed": false,
    "pycharm": {
     "name": "#%%\n"
    }
   }
  },
  {
   "cell_type": "code",
   "execution_count": 6,
   "outputs": [],
   "source": [
    "con.load_table(\"la_rf_prop_v19\", rf_prop)"
   ],
   "metadata": {
    "collapsed": false,
    "pycharm": {
     "name": "#%%\n"
    }
   }
  },
  {
   "cell_type": "markdown",
   "source": [
    "### Reading data from HeavyDB\n",
    "\n",
    "Once the data is present on the database, it can be access or worked on using all the capabilities of HeavyDB."
   ],
   "metadata": {
    "collapsed": false,
    "pycharm": {
     "name": "#%% md\n"
    }
   }
  },
  {
   "cell_type": "code",
   "execution_count": 7,
   "outputs": [
    {
     "data": {
      "text/plain": "['omnisci_states',\n 'omnisci_counties',\n 'omnisci_countries',\n 'la_rf_prop_v19',\n 'la_rf_prop_v11',\n 'lidar',\n 'cell_towers']"
     },
     "execution_count": 7,
     "metadata": {},
     "output_type": "execute_result"
    }
   ],
   "source": [
    "con.get_tables()"
   ],
   "metadata": {
    "collapsed": false,
    "pycharm": {
     "name": "#%%\n"
    }
   }
  },
  {
   "cell_type": "code",
   "execution_count": 8,
   "outputs": [
    {
     "data": {
      "text/plain": "[ColumnDetails(name='geo', type='STR', nullable=True, precision=0, scale=0, comp_param=32, encoding='DICT', is_array=False),\n ColumnDetails(name='elevation_amsl_meters', type='DOUBLE', nullable=True, precision=0, scale=0, comp_param=0, encoding='NONE', is_array=False),\n ColumnDetails(name='rf_source_id', type='DOUBLE', nullable=True, precision=0, scale=0, comp_param=0, encoding='NONE', is_array=False),\n ColumnDetails(name='max_rf_signal_strength_dbm', type='DOUBLE', nullable=True, precision=0, scale=0, comp_param=0, encoding='NONE', is_array=False),\n ColumnDetails(name='row_id', type='BIGINT', nullable=True, precision=0, scale=0, comp_param=0, encoding='NONE', is_array=False),\n ColumnDetails(name='source_distance', type='DOUBLE', nullable=True, precision=0, scale=0, comp_param=0, encoding='NONE', is_array=False),\n ColumnDetails(name='nearest_cell', type='DOUBLE', nullable=True, precision=0, scale=0, comp_param=0, encoding='NONE', is_array=False),\n ColumnDetails(name='nearest_source_distance', type='DOUBLE', nullable=True, precision=0, scale=0, comp_param=0, encoding='NONE', is_array=False),\n ColumnDetails(name='label', type='BIGINT', nullable=True, precision=0, scale=0, comp_param=0, encoding='NONE', is_array=False)]"
     },
     "execution_count": 8,
     "metadata": {},
     "output_type": "execute_result"
    }
   ],
   "source": [
    "con.get_table_details('la_rf_prop_v19')"
   ],
   "metadata": {
    "collapsed": false,
    "pycharm": {
     "name": "#%%\n"
    }
   }
  },
  {
   "cell_type": "code",
   "execution_count": 9,
   "outputs": [
    {
     "name": "stderr",
     "output_type": "stream",
     "text": [
      "/opt/homebrew/Caskroom/mambaforge/base/envs/heavyai-env/lib/python3.9/site-packages/pandas/io/sql.py:761: UserWarning: pandas only support SQLAlchemy connectable(engine/connection) ordatabase string URI or sqlite3 DBAPI2 connectionother DBAPI2 objects are not tested, please consider using SQLAlchemy\n",
      "  warnings.warn(\n"
     ]
    },
    {
     "data": {
      "text/plain": "                                          geo  elevation_amsl_meters  \\\n0  POINT (-118.096999972173 33.6369999747896)                    NaN   \n\n   rf_source_id  max_rf_signal_strength_dbm  row_id  source_distance  \\\n0           NaN                         NaN  536680              0.0   \n\n   nearest_cell  nearest_source_distance  label  \n0       38633.0              4731.014691      2  ",
      "text/html": "<div>\n<style scoped>\n    .dataframe tbody tr th:only-of-type {\n        vertical-align: middle;\n    }\n\n    .dataframe tbody tr th {\n        vertical-align: top;\n    }\n\n    .dataframe thead th {\n        text-align: right;\n    }\n</style>\n<table border=\"1\" class=\"dataframe\">\n  <thead>\n    <tr style=\"text-align: right;\">\n      <th></th>\n      <th>geo</th>\n      <th>elevation_amsl_meters</th>\n      <th>rf_source_id</th>\n      <th>max_rf_signal_strength_dbm</th>\n      <th>row_id</th>\n      <th>source_distance</th>\n      <th>nearest_cell</th>\n      <th>nearest_source_distance</th>\n      <th>label</th>\n    </tr>\n  </thead>\n  <tbody>\n    <tr>\n      <th>0</th>\n      <td>POINT (-118.096999972173 33.6369999747896)</td>\n      <td>NaN</td>\n      <td>NaN</td>\n      <td>NaN</td>\n      <td>536680</td>\n      <td>0.0</td>\n      <td>38633.0</td>\n      <td>4731.014691</td>\n      <td>2</td>\n    </tr>\n  </tbody>\n</table>\n</div>"
     },
     "execution_count": 9,
     "metadata": {},
     "output_type": "execute_result"
    }
   ],
   "source": [
    "pd.read_sql(\"SELECT * FROM la_rf_prop_v19 limit 10\", con).head(1)"
   ],
   "metadata": {
    "collapsed": false,
    "pycharm": {
     "name": "#%%\n"
    }
   }
  },
  {
   "cell_type": "markdown",
   "source": [
    "The data is conveniently read using a pandas dataframe which allows powerfull analysis."
   ],
   "metadata": {
    "collapsed": false,
    "pycharm": {
     "name": "#%% md\n"
    }
   }
  },
  {
   "cell_type": "markdown",
   "source": [
    "But `heavyai` provides a more powerful method `select_ipc` which uses Arrow as a transport layer. On top of which, `sample_ratio` can also be used to only sample a fraction of the table. This is useful to prevent pulling by accident very large tables."
   ],
   "metadata": {
    "collapsed": false,
    "pycharm": {
     "name": "#%% md\n"
    }
   }
  },
  {
   "cell_type": "code",
   "execution_count": 10,
   "outputs": [
    {
     "data": {
      "text/plain": "                                          geo  elevation_amsl_meters  \\\n0  POINT (-118.096999972173 33.6369999747896)                    NaN   \n\n   rf_source_id  max_rf_signal_strength_dbm  row_id  source_distance  \\\n0           NaN                         NaN  536680              0.0   \n\n   nearest_cell  nearest_source_distance  label  \n0       38633.0              4731.014691      2  ",
      "text/html": "<div>\n<style scoped>\n    .dataframe tbody tr th:only-of-type {\n        vertical-align: middle;\n    }\n\n    .dataframe tbody tr th {\n        vertical-align: top;\n    }\n\n    .dataframe thead th {\n        text-align: right;\n    }\n</style>\n<table border=\"1\" class=\"dataframe\">\n  <thead>\n    <tr style=\"text-align: right;\">\n      <th></th>\n      <th>geo</th>\n      <th>elevation_amsl_meters</th>\n      <th>rf_source_id</th>\n      <th>max_rf_signal_strength_dbm</th>\n      <th>row_id</th>\n      <th>source_distance</th>\n      <th>nearest_cell</th>\n      <th>nearest_source_distance</th>\n      <th>label</th>\n    </tr>\n  </thead>\n  <tbody>\n    <tr>\n      <th>0</th>\n      <td>POINT (-118.096999972173 33.6369999747896)</td>\n      <td>NaN</td>\n      <td>NaN</td>\n      <td>NaN</td>\n      <td>536680</td>\n      <td>0.0</td>\n      <td>38633.0</td>\n      <td>4731.014691</td>\n      <td>2</td>\n    </tr>\n  </tbody>\n</table>\n</div>"
     },
     "execution_count": 10,
     "metadata": {},
     "output_type": "execute_result"
    }
   ],
   "source": [
    "con.select_ipc(\n",
    "    f\"SELECT * FROM la_rf_prop_v19\"\n",
    "    f\" where sample_ratio((select 100000 / cast(count(*) as float) from la_rf_prop_v19))\"\n",
    ").head(1)"
   ],
   "metadata": {
    "collapsed": false,
    "pycharm": {
     "name": "#%%\n"
    }
   }
  },
  {
   "cell_type": "markdown",
   "source": [
    "## Predicting signal quality\n",
    "\n",
    "First, we are interested to see if the distance of an observer to the closest repeater can be used to predict signal reception quality."
   ],
   "metadata": {
    "collapsed": false,
    "pycharm": {
     "name": "#%% md\n"
    }
   }
  },
  {
   "cell_type": "code",
   "execution_count": 11,
   "outputs": [],
   "source": [
    "rf_prop['distance'] = rf_prop['source_distance'] + rf_prop['nearest_source_distance']"
   ],
   "metadata": {
    "collapsed": false,
    "pycharm": {
     "name": "#%%\n"
    }
   }
  },
  {
   "cell_type": "code",
   "execution_count": 12,
   "outputs": [],
   "source": [
    "X_train, X_test, y_train, y_test = train_test_split(\n",
    "    rf_prop[['distance']], rf_prop['label'], test_size=0.8\n",
    ")"
   ],
   "metadata": {
    "collapsed": false,
    "pycharm": {
     "name": "#%%\n"
    }
   }
  },
  {
   "cell_type": "code",
   "execution_count": 13,
   "outputs": [
    {
     "data": {
      "text/plain": "Pipeline(steps=[('preprocess', StandardScaler()),\n                ('classifier',\n                 RandomForestClassifier(max_depth=2, n_estimators=1))])",
      "text/html": "<style>#sk-95659aed-ddec-490b-a63c-b5419391b9d6 {color: black;background-color: white;}#sk-95659aed-ddec-490b-a63c-b5419391b9d6 pre{padding: 0;}#sk-95659aed-ddec-490b-a63c-b5419391b9d6 div.sk-toggleable {background-color: white;}#sk-95659aed-ddec-490b-a63c-b5419391b9d6 label.sk-toggleable__label {cursor: pointer;display: block;width: 100%;margin-bottom: 0;padding: 0.3em;box-sizing: border-box;text-align: center;}#sk-95659aed-ddec-490b-a63c-b5419391b9d6 label.sk-toggleable__label-arrow:before {content: \"▸\";float: left;margin-right: 0.25em;color: #696969;}#sk-95659aed-ddec-490b-a63c-b5419391b9d6 label.sk-toggleable__label-arrow:hover:before {color: black;}#sk-95659aed-ddec-490b-a63c-b5419391b9d6 div.sk-estimator:hover label.sk-toggleable__label-arrow:before {color: black;}#sk-95659aed-ddec-490b-a63c-b5419391b9d6 div.sk-toggleable__content {max-height: 0;max-width: 0;overflow: hidden;text-align: left;background-color: #f0f8ff;}#sk-95659aed-ddec-490b-a63c-b5419391b9d6 div.sk-toggleable__content pre {margin: 0.2em;color: black;border-radius: 0.25em;background-color: #f0f8ff;}#sk-95659aed-ddec-490b-a63c-b5419391b9d6 input.sk-toggleable__control:checked~div.sk-toggleable__content {max-height: 200px;max-width: 100%;overflow: auto;}#sk-95659aed-ddec-490b-a63c-b5419391b9d6 input.sk-toggleable__control:checked~label.sk-toggleable__label-arrow:before {content: \"▾\";}#sk-95659aed-ddec-490b-a63c-b5419391b9d6 div.sk-estimator input.sk-toggleable__control:checked~label.sk-toggleable__label {background-color: #d4ebff;}#sk-95659aed-ddec-490b-a63c-b5419391b9d6 div.sk-label input.sk-toggleable__control:checked~label.sk-toggleable__label {background-color: #d4ebff;}#sk-95659aed-ddec-490b-a63c-b5419391b9d6 input.sk-hidden--visually {border: 0;clip: rect(1px 1px 1px 1px);clip: rect(1px, 1px, 1px, 1px);height: 1px;margin: -1px;overflow: hidden;padding: 0;position: absolute;width: 1px;}#sk-95659aed-ddec-490b-a63c-b5419391b9d6 div.sk-estimator {font-family: monospace;background-color: #f0f8ff;border: 1px dotted black;border-radius: 0.25em;box-sizing: border-box;margin-bottom: 0.5em;}#sk-95659aed-ddec-490b-a63c-b5419391b9d6 div.sk-estimator:hover {background-color: #d4ebff;}#sk-95659aed-ddec-490b-a63c-b5419391b9d6 div.sk-parallel-item::after {content: \"\";width: 100%;border-bottom: 1px solid gray;flex-grow: 1;}#sk-95659aed-ddec-490b-a63c-b5419391b9d6 div.sk-label:hover label.sk-toggleable__label {background-color: #d4ebff;}#sk-95659aed-ddec-490b-a63c-b5419391b9d6 div.sk-serial::before {content: \"\";position: absolute;border-left: 1px solid gray;box-sizing: border-box;top: 2em;bottom: 0;left: 50%;}#sk-95659aed-ddec-490b-a63c-b5419391b9d6 div.sk-serial {display: flex;flex-direction: column;align-items: center;background-color: white;padding-right: 0.2em;padding-left: 0.2em;}#sk-95659aed-ddec-490b-a63c-b5419391b9d6 div.sk-item {z-index: 1;}#sk-95659aed-ddec-490b-a63c-b5419391b9d6 div.sk-parallel {display: flex;align-items: stretch;justify-content: center;background-color: white;}#sk-95659aed-ddec-490b-a63c-b5419391b9d6 div.sk-parallel::before {content: \"\";position: absolute;border-left: 1px solid gray;box-sizing: border-box;top: 2em;bottom: 0;left: 50%;}#sk-95659aed-ddec-490b-a63c-b5419391b9d6 div.sk-parallel-item {display: flex;flex-direction: column;position: relative;background-color: white;}#sk-95659aed-ddec-490b-a63c-b5419391b9d6 div.sk-parallel-item:first-child::after {align-self: flex-end;width: 50%;}#sk-95659aed-ddec-490b-a63c-b5419391b9d6 div.sk-parallel-item:last-child::after {align-self: flex-start;width: 50%;}#sk-95659aed-ddec-490b-a63c-b5419391b9d6 div.sk-parallel-item:only-child::after {width: 0;}#sk-95659aed-ddec-490b-a63c-b5419391b9d6 div.sk-dashed-wrapped {border: 1px dashed gray;margin: 0 0.4em 0.5em 0.4em;box-sizing: border-box;padding-bottom: 0.4em;background-color: white;position: relative;}#sk-95659aed-ddec-490b-a63c-b5419391b9d6 div.sk-label label {font-family: monospace;font-weight: bold;background-color: white;display: inline-block;line-height: 1.2em;}#sk-95659aed-ddec-490b-a63c-b5419391b9d6 div.sk-label-container {position: relative;z-index: 2;text-align: center;}#sk-95659aed-ddec-490b-a63c-b5419391b9d6 div.sk-container {/* jupyter's `normalize.less` sets `[hidden] { display: none; }` but bootstrap.min.css set `[hidden] { display: none !important; }` so we also need the `!important` here to be able to override the default hidden behavior on the sphinx rendered scikit-learn.org. See: https://github.com/scikit-learn/scikit-learn/issues/21755 */display: inline-block !important;position: relative;}#sk-95659aed-ddec-490b-a63c-b5419391b9d6 div.sk-text-repr-fallback {display: none;}</style><div id=\"sk-95659aed-ddec-490b-a63c-b5419391b9d6\" class=\"sk-top-container\"><div class=\"sk-text-repr-fallback\"><pre>Pipeline(steps=[(&#x27;preprocess&#x27;, StandardScaler()),\n                (&#x27;classifier&#x27;,\n                 RandomForestClassifier(max_depth=2, n_estimators=1))])</pre><b>Please rerun this cell to show the HTML repr or trust the notebook.</b></div><div class=\"sk-container\" hidden><div class=\"sk-item sk-dashed-wrapped\"><div class=\"sk-label-container\"><div class=\"sk-label sk-toggleable\"><input class=\"sk-toggleable__control sk-hidden--visually\" id=\"8a765083-74cc-44dc-a093-fb5b0dc78e5e\" type=\"checkbox\" ><label for=\"8a765083-74cc-44dc-a093-fb5b0dc78e5e\" class=\"sk-toggleable__label sk-toggleable__label-arrow\">Pipeline</label><div class=\"sk-toggleable__content\"><pre>Pipeline(steps=[(&#x27;preprocess&#x27;, StandardScaler()),\n                (&#x27;classifier&#x27;,\n                 RandomForestClassifier(max_depth=2, n_estimators=1))])</pre></div></div></div><div class=\"sk-serial\"><div class=\"sk-item\"><div class=\"sk-estimator sk-toggleable\"><input class=\"sk-toggleable__control sk-hidden--visually\" id=\"e5ace16b-31f3-4eaa-8ac9-1114c68b2878\" type=\"checkbox\" ><label for=\"e5ace16b-31f3-4eaa-8ac9-1114c68b2878\" class=\"sk-toggleable__label sk-toggleable__label-arrow\">StandardScaler</label><div class=\"sk-toggleable__content\"><pre>StandardScaler()</pre></div></div></div><div class=\"sk-item\"><div class=\"sk-estimator sk-toggleable\"><input class=\"sk-toggleable__control sk-hidden--visually\" id=\"896ece78-1b66-443a-892c-afeec899a6e9\" type=\"checkbox\" ><label for=\"896ece78-1b66-443a-892c-afeec899a6e9\" class=\"sk-toggleable__label sk-toggleable__label-arrow\">RandomForestClassifier</label><div class=\"sk-toggleable__content\"><pre>RandomForestClassifier(max_depth=2, n_estimators=1)</pre></div></div></div></div></div></div></div>"
     },
     "execution_count": 13,
     "metadata": {},
     "output_type": "execute_result"
    }
   ],
   "source": [
    "pipe = pipeline.Pipeline(\n",
    "    [('preprocess', preprocessing.StandardScaler()),\n",
    "     ('classifier', RandomForestClassifier(n_estimators=1, max_depth=2))]\n",
    ")\n",
    "pipe.fit(X_train, y_train)"
   ],
   "metadata": {
    "collapsed": false,
    "pycharm": {
     "name": "#%%\n"
    }
   }
  },
  {
   "cell_type": "code",
   "execution_count": 14,
   "outputs": [
    {
     "data": {
      "text/plain": "0.8527607612429907"
     },
     "execution_count": 14,
     "metadata": {},
     "output_type": "execute_result"
    }
   ],
   "source": [
    "pipe.score(X_test, y_test)"
   ],
   "metadata": {
    "collapsed": false,
    "pycharm": {
     "name": "#%%\n"
    }
   }
  },
  {
   "cell_type": "markdown",
   "source": [
    "## Improved Model\n",
    "\n",
    "To try improve the quality of our classifier, we now make use of the signal strength an observer gets from the top 3 cell towers in addition to the distance to the closest cell tower."
   ],
   "metadata": {
    "collapsed": false,
    "pycharm": {
     "name": "#%% md\n"
    }
   }
  },
  {
   "cell_type": "code",
   "execution_count": 15,
   "outputs": [
    {
     "data": {
      "text/plain": "(4967970, 12)"
     },
     "execution_count": 15,
     "metadata": {},
     "output_type": "execute_result"
    }
   ],
   "source": [
    "rf_prop = pd.read_csv(\"data/la_rf_prop_v11\").drop('Unnamed: 0', axis=1)\n",
    "con.load_table(\"la_rf_prop_v11\", rf_prop)\n",
    "rf_prop.shape"
   ],
   "metadata": {
    "collapsed": false,
    "pycharm": {
     "name": "#%%\n"
    }
   }
  },
  {
   "cell_type": "code",
   "execution_count": 16,
   "outputs": [
    {
     "data": {
      "text/plain": "   row_id           x        y  elevation_amsl_meters  rf_source_id  \\\n0     NaN -118.236595  33.7341               4.573941        101278   \n\n   terrain_bin_id  rf_signal_strength_dbm  rf_source_distance_meters  \\\n0          930242               -62.41758                    450.071   \n\n   temp_row_id  first_signal  second_signal  label  \n0            1    -62.418934     -62.421417      0  ",
      "text/html": "<div>\n<style scoped>\n    .dataframe tbody tr th:only-of-type {\n        vertical-align: middle;\n    }\n\n    .dataframe tbody tr th {\n        vertical-align: top;\n    }\n\n    .dataframe thead th {\n        text-align: right;\n    }\n</style>\n<table border=\"1\" class=\"dataframe\">\n  <thead>\n    <tr style=\"text-align: right;\">\n      <th></th>\n      <th>row_id</th>\n      <th>x</th>\n      <th>y</th>\n      <th>elevation_amsl_meters</th>\n      <th>rf_source_id</th>\n      <th>terrain_bin_id</th>\n      <th>rf_signal_strength_dbm</th>\n      <th>rf_source_distance_meters</th>\n      <th>temp_row_id</th>\n      <th>first_signal</th>\n      <th>second_signal</th>\n      <th>label</th>\n    </tr>\n  </thead>\n  <tbody>\n    <tr>\n      <th>0</th>\n      <td>NaN</td>\n      <td>-118.236595</td>\n      <td>33.7341</td>\n      <td>4.573941</td>\n      <td>101278</td>\n      <td>930242</td>\n      <td>-62.41758</td>\n      <td>450.071</td>\n      <td>1</td>\n      <td>-62.418934</td>\n      <td>-62.421417</td>\n      <td>0</td>\n    </tr>\n  </tbody>\n</table>\n</div>"
     },
     "execution_count": 16,
     "metadata": {},
     "output_type": "execute_result"
    }
   ],
   "source": [
    "rf_prop = rf_prop.loc[\n",
    "    (rf_prop['temp_row_id'] == 1)\n",
    "    & (pd.notna(rf_prop['first_signal']))\n",
    "    & (pd.notna(rf_prop['second_signal']))\n",
    "]\n",
    "rf_prop.reset_index(drop=True, inplace=True)\n",
    "rf_prop.head(1)"
   ],
   "metadata": {
    "collapsed": false,
    "pycharm": {
     "name": "#%%\n"
    }
   }
  },
  {
   "cell_type": "code",
   "execution_count": 17,
   "outputs": [],
   "source": [
    "X_train, X_test, y_train, y_test = train_test_split(\n",
    "    rf_prop[['rf_signal_strength_dbm','rf_source_distance_meters','first_signal','second_signal']],\n",
    "    rf_prop['label'], test_size=0.3\n",
    ")"
   ],
   "metadata": {
    "collapsed": false,
    "pycharm": {
     "name": "#%%\n"
    }
   }
  },
  {
   "cell_type": "markdown",
   "source": [
    "The same classifier architecture is used"
   ],
   "metadata": {
    "collapsed": false,
    "pycharm": {
     "name": "#%% md\n"
    }
   }
  },
  {
   "cell_type": "code",
   "execution_count": 18,
   "outputs": [
    {
     "data": {
      "text/plain": "Pipeline(steps=[('preprocess', StandardScaler()),\n                ('classifier',\n                 RandomForestClassifier(max_depth=2, n_estimators=1))])",
      "text/html": "<style>#sk-245dce28-8088-42c8-a7b5-b3d3817a7e97 {color: black;background-color: white;}#sk-245dce28-8088-42c8-a7b5-b3d3817a7e97 pre{padding: 0;}#sk-245dce28-8088-42c8-a7b5-b3d3817a7e97 div.sk-toggleable {background-color: white;}#sk-245dce28-8088-42c8-a7b5-b3d3817a7e97 label.sk-toggleable__label {cursor: pointer;display: block;width: 100%;margin-bottom: 0;padding: 0.3em;box-sizing: border-box;text-align: center;}#sk-245dce28-8088-42c8-a7b5-b3d3817a7e97 label.sk-toggleable__label-arrow:before {content: \"▸\";float: left;margin-right: 0.25em;color: #696969;}#sk-245dce28-8088-42c8-a7b5-b3d3817a7e97 label.sk-toggleable__label-arrow:hover:before {color: black;}#sk-245dce28-8088-42c8-a7b5-b3d3817a7e97 div.sk-estimator:hover label.sk-toggleable__label-arrow:before {color: black;}#sk-245dce28-8088-42c8-a7b5-b3d3817a7e97 div.sk-toggleable__content {max-height: 0;max-width: 0;overflow: hidden;text-align: left;background-color: #f0f8ff;}#sk-245dce28-8088-42c8-a7b5-b3d3817a7e97 div.sk-toggleable__content pre {margin: 0.2em;color: black;border-radius: 0.25em;background-color: #f0f8ff;}#sk-245dce28-8088-42c8-a7b5-b3d3817a7e97 input.sk-toggleable__control:checked~div.sk-toggleable__content {max-height: 200px;max-width: 100%;overflow: auto;}#sk-245dce28-8088-42c8-a7b5-b3d3817a7e97 input.sk-toggleable__control:checked~label.sk-toggleable__label-arrow:before {content: \"▾\";}#sk-245dce28-8088-42c8-a7b5-b3d3817a7e97 div.sk-estimator input.sk-toggleable__control:checked~label.sk-toggleable__label {background-color: #d4ebff;}#sk-245dce28-8088-42c8-a7b5-b3d3817a7e97 div.sk-label input.sk-toggleable__control:checked~label.sk-toggleable__label {background-color: #d4ebff;}#sk-245dce28-8088-42c8-a7b5-b3d3817a7e97 input.sk-hidden--visually {border: 0;clip: rect(1px 1px 1px 1px);clip: rect(1px, 1px, 1px, 1px);height: 1px;margin: -1px;overflow: hidden;padding: 0;position: absolute;width: 1px;}#sk-245dce28-8088-42c8-a7b5-b3d3817a7e97 div.sk-estimator {font-family: monospace;background-color: #f0f8ff;border: 1px dotted black;border-radius: 0.25em;box-sizing: border-box;margin-bottom: 0.5em;}#sk-245dce28-8088-42c8-a7b5-b3d3817a7e97 div.sk-estimator:hover {background-color: #d4ebff;}#sk-245dce28-8088-42c8-a7b5-b3d3817a7e97 div.sk-parallel-item::after {content: \"\";width: 100%;border-bottom: 1px solid gray;flex-grow: 1;}#sk-245dce28-8088-42c8-a7b5-b3d3817a7e97 div.sk-label:hover label.sk-toggleable__label {background-color: #d4ebff;}#sk-245dce28-8088-42c8-a7b5-b3d3817a7e97 div.sk-serial::before {content: \"\";position: absolute;border-left: 1px solid gray;box-sizing: border-box;top: 2em;bottom: 0;left: 50%;}#sk-245dce28-8088-42c8-a7b5-b3d3817a7e97 div.sk-serial {display: flex;flex-direction: column;align-items: center;background-color: white;padding-right: 0.2em;padding-left: 0.2em;}#sk-245dce28-8088-42c8-a7b5-b3d3817a7e97 div.sk-item {z-index: 1;}#sk-245dce28-8088-42c8-a7b5-b3d3817a7e97 div.sk-parallel {display: flex;align-items: stretch;justify-content: center;background-color: white;}#sk-245dce28-8088-42c8-a7b5-b3d3817a7e97 div.sk-parallel::before {content: \"\";position: absolute;border-left: 1px solid gray;box-sizing: border-box;top: 2em;bottom: 0;left: 50%;}#sk-245dce28-8088-42c8-a7b5-b3d3817a7e97 div.sk-parallel-item {display: flex;flex-direction: column;position: relative;background-color: white;}#sk-245dce28-8088-42c8-a7b5-b3d3817a7e97 div.sk-parallel-item:first-child::after {align-self: flex-end;width: 50%;}#sk-245dce28-8088-42c8-a7b5-b3d3817a7e97 div.sk-parallel-item:last-child::after {align-self: flex-start;width: 50%;}#sk-245dce28-8088-42c8-a7b5-b3d3817a7e97 div.sk-parallel-item:only-child::after {width: 0;}#sk-245dce28-8088-42c8-a7b5-b3d3817a7e97 div.sk-dashed-wrapped {border: 1px dashed gray;margin: 0 0.4em 0.5em 0.4em;box-sizing: border-box;padding-bottom: 0.4em;background-color: white;position: relative;}#sk-245dce28-8088-42c8-a7b5-b3d3817a7e97 div.sk-label label {font-family: monospace;font-weight: bold;background-color: white;display: inline-block;line-height: 1.2em;}#sk-245dce28-8088-42c8-a7b5-b3d3817a7e97 div.sk-label-container {position: relative;z-index: 2;text-align: center;}#sk-245dce28-8088-42c8-a7b5-b3d3817a7e97 div.sk-container {/* jupyter's `normalize.less` sets `[hidden] { display: none; }` but bootstrap.min.css set `[hidden] { display: none !important; }` so we also need the `!important` here to be able to override the default hidden behavior on the sphinx rendered scikit-learn.org. See: https://github.com/scikit-learn/scikit-learn/issues/21755 */display: inline-block !important;position: relative;}#sk-245dce28-8088-42c8-a7b5-b3d3817a7e97 div.sk-text-repr-fallback {display: none;}</style><div id=\"sk-245dce28-8088-42c8-a7b5-b3d3817a7e97\" class=\"sk-top-container\"><div class=\"sk-text-repr-fallback\"><pre>Pipeline(steps=[(&#x27;preprocess&#x27;, StandardScaler()),\n                (&#x27;classifier&#x27;,\n                 RandomForestClassifier(max_depth=2, n_estimators=1))])</pre><b>Please rerun this cell to show the HTML repr or trust the notebook.</b></div><div class=\"sk-container\" hidden><div class=\"sk-item sk-dashed-wrapped\"><div class=\"sk-label-container\"><div class=\"sk-label sk-toggleable\"><input class=\"sk-toggleable__control sk-hidden--visually\" id=\"a076e2e2-1653-4733-9d02-f6088c1327c3\" type=\"checkbox\" ><label for=\"a076e2e2-1653-4733-9d02-f6088c1327c3\" class=\"sk-toggleable__label sk-toggleable__label-arrow\">Pipeline</label><div class=\"sk-toggleable__content\"><pre>Pipeline(steps=[(&#x27;preprocess&#x27;, StandardScaler()),\n                (&#x27;classifier&#x27;,\n                 RandomForestClassifier(max_depth=2, n_estimators=1))])</pre></div></div></div><div class=\"sk-serial\"><div class=\"sk-item\"><div class=\"sk-estimator sk-toggleable\"><input class=\"sk-toggleable__control sk-hidden--visually\" id=\"2f36f390-c5fa-4b74-8f2e-baa4c0c5e588\" type=\"checkbox\" ><label for=\"2f36f390-c5fa-4b74-8f2e-baa4c0c5e588\" class=\"sk-toggleable__label sk-toggleable__label-arrow\">StandardScaler</label><div class=\"sk-toggleable__content\"><pre>StandardScaler()</pre></div></div></div><div class=\"sk-item\"><div class=\"sk-estimator sk-toggleable\"><input class=\"sk-toggleable__control sk-hidden--visually\" id=\"299ade4d-cbde-4c61-ab46-a43959a8d951\" type=\"checkbox\" ><label for=\"299ade4d-cbde-4c61-ab46-a43959a8d951\" class=\"sk-toggleable__label sk-toggleable__label-arrow\">RandomForestClassifier</label><div class=\"sk-toggleable__content\"><pre>RandomForestClassifier(max_depth=2, n_estimators=1)</pre></div></div></div></div></div></div></div>"
     },
     "execution_count": 18,
     "metadata": {},
     "output_type": "execute_result"
    }
   ],
   "source": [
    "pipe.fit(X_train, y_train)"
   ],
   "metadata": {
    "collapsed": false,
    "pycharm": {
     "name": "#%%\n"
    }
   }
  },
  {
   "cell_type": "code",
   "execution_count": 19,
   "metadata": {
    "pycharm": {
     "name": "#%%\n"
    }
   },
   "outputs": [
    {
     "data": {
      "text/plain": "0.9870469178111242"
     },
     "execution_count": 19,
     "metadata": {},
     "output_type": "execute_result"
    }
   ],
   "source": [
    "pipe.score(X_test, y_test)"
   ]
  },
  {
   "cell_type": "markdown",
   "source": [
    "## Conclusion\n",
    "\n",
    "We've shown an end-to-end workflow combining physical modeling with data science; a similar approach can be used in many other contexts where complex physical models would benefit from calibration, speed or both."
   ],
   "metadata": {
    "collapsed": false,
    "pycharm": {
     "name": "#%% md\n"
    }
   }
  }
 ],
 "metadata": {
  "kernelspec": {
   "display_name": "Python 3 (ipykernel)",
   "language": "python",
   "name": "python3"
  },
  "language_info": {
   "codemirror_mode": {
    "name": "ipython",
    "version": 3
   },
   "file_extension": ".py",
   "mimetype": "text/x-python",
   "name": "python",
   "nbconvert_exporter": "python",
   "pygments_lexer": "ipython3",
   "version": "3.9.13"
  }
 },
 "nbformat": 4,
 "nbformat_minor": 4
}